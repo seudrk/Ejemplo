{
 "cells": [
  {
   "cell_type": "markdown",
   "id": "dde3b1cc",
   "metadata": {},
   "source": [
    "# Clase1"
   ]
  },
  {
   "cell_type": "markdown",
   "id": "e26b81cf",
   "metadata": {},
   "source": [
    "La primera clase de JPN"
   ]
  },
  {
   "cell_type": "code",
   "execution_count": null,
   "id": "aaa603e7",
   "metadata": {},
   "outputs": [],
   "source": [
    "a+b #suma de a + b"
   ]
  },
  {
   "cell_type": "code",
   "execution_count": null,
   "id": "4cdf2eb8",
   "metadata": {},
   "outputs": [],
   "source": [
    "a=75"
   ]
  },
  {
   "cell_type": "code",
   "execution_count": null,
   "id": "c65be738",
   "metadata": {},
   "outputs": [],
   "source": [
    "b=215"
   ]
  },
  {
   "cell_type": "code",
   "execution_count": null,
   "id": "4e7efcd9",
   "metadata": {},
   "outputs": [],
   "source": [
    "a+b"
   ]
  },
  {
   "cell_type": "code",
   "execution_count": null,
   "id": "69ff860c",
   "metadata": {},
   "outputs": [],
   "source": []
  },
  {
   "cell_type": "code",
   "execution_count": null,
   "id": "277a9e98",
   "metadata": {},
   "outputs": [],
   "source": []
  }
 ],
 "metadata": {
  "kernelspec": {
   "display_name": "Python 3 (ipykernel)",
   "language": "python",
   "name": "python3"
  },
  "language_info": {
   "codemirror_mode": {
    "name": "ipython",
    "version": 3
   },
   "file_extension": ".py",
   "mimetype": "text/x-python",
   "name": "python",
   "nbconvert_exporter": "python",
   "pygments_lexer": "ipython3",
   "version": "3.9.7"
  }
 },
 "nbformat": 4,
 "nbformat_minor": 5
}
